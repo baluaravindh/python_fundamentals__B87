{
 "cells": [
  {
   "cell_type": "code",
   "execution_count": 2,
   "id": "8c7169f8-eee1-44d3-ab95-d5de1f59efc8",
   "metadata": {},
   "outputs": [
    {
     "name": "stdout",
     "output_type": "stream",
     "text": [
      "Hello Python. This is python learning teaching by fayaz sir!! Day1_Batch__87\n"
     ]
    }
   ],
   "source": [
    "print(\"Hello Python. This is python learning teaching by fayaz sir!! Day1_Batch__87\")"
   ]
  },
  {
   "cell_type": "code",
   "execution_count": null,
   "id": "ef6fd10d-649b-4009-a0c6-5b2b5924671b",
   "metadata": {},
   "outputs": [],
   "source": []
  }
 ],
 "metadata": {
  "kernelspec": {
   "display_name": "Python 3 (ipykernel)",
   "language": "python",
   "name": "python3"
  },
  "language_info": {
   "codemirror_mode": {
    "name": "ipython",
    "version": 3
   },
   "file_extension": ".py",
   "mimetype": "text/x-python",
   "name": "python",
   "nbconvert_exporter": "python",
   "pygments_lexer": "ipython3",
   "version": "3.12.4"
  }
 },
 "nbformat": 4,
 "nbformat_minor": 5
}

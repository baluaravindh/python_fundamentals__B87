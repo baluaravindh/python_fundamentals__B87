{
 "cells": [
  {
   "cell_type": "code",
   "execution_count": 2,
   "id": "71ccd8f2-2ad6-4042-8c43-ae12b4c0ff0d",
   "metadata": {},
   "outputs": [
    {
     "name": "stdout",
     "output_type": "stream",
     "text": [
      "5\n"
     ]
    }
   ],
   "source": [
    "x=2\n",
    "y=3\n",
    "z=x+y\n",
    "print(z)"
   ]
  },
  {
   "cell_type": "code",
   "execution_count": 4,
   "id": "241ca76c-27ea-4ef1-be36-67c5543622d5",
   "metadata": {},
   "outputs": [
    {
     "name": "stdout",
     "output_type": "stream",
     "text": [
      "15\n"
     ]
    }
   ],
   "source": [
    "a=3\n",
    "b=5\n",
    "c=a*b\n",
    "print(c)"
   ]
  },
  {
   "cell_type": "code",
   "execution_count": 6,
   "id": "39648129-3ba6-4061-aa73-ff7b8408f66b",
   "metadata": {},
   "outputs": [
    {
     "ename": "SyntaxError",
     "evalue": "invalid syntax (1942083526.py, line 1)",
     "output_type": "error",
     "traceback": [
      "\u001b[1;36m  Cell \u001b[1;32mIn[6], line 1\u001b[1;36m\u001b[0m\n\u001b[1;33m    first name = 'balu'\u001b[0m\n\u001b[1;37m          ^\u001b[0m\n\u001b[1;31mSyntaxError\u001b[0m\u001b[1;31m:\u001b[0m invalid syntax\n"
     ]
    }
   ],
   "source": [
    "first name = 'balu'\n",
    "print(first name)"
   ]
  },
  {
   "cell_type": "code",
   "execution_count": 10,
   "id": "1908b344-505b-4ef7-b7bb-d949cfba1042",
   "metadata": {},
   "outputs": [
    {
     "name": "stdout",
     "output_type": "stream",
     "text": [
      "balu\n"
     ]
    }
   ],
   "source": [
    "firstname = 'balu'\n",
    "print(firstname)"
   ]
  },
  {
   "cell_type": "code",
   "execution_count": 12,
   "id": "6dbc361b-9159-4f72-83f2-a327a8bfb250",
   "metadata": {},
   "outputs": [
    {
     "ename": "SyntaxError",
     "evalue": "invalid decimal literal (459125465.py, line 1)",
     "output_type": "error",
     "traceback": [
      "\u001b[1;36m  Cell \u001b[1;32mIn[12], line 1\u001b[1;36m\u001b[0m\n\u001b[1;33m    1name = 'balu'\u001b[0m\n\u001b[1;37m    ^\u001b[0m\n\u001b[1;31mSyntaxError\u001b[0m\u001b[1;31m:\u001b[0m invalid decimal literal\n"
     ]
    }
   ],
   "source": [
    "1name = 'balu'\n",
    "print(1name)"
   ]
  },
  {
   "cell_type": "code",
   "execution_count": 14,
   "id": "40323861-17d0-4422-820c-a33e9676edb9",
   "metadata": {},
   "outputs": [
    {
     "name": "stdout",
     "output_type": "stream",
     "text": [
      "balu\n"
     ]
    }
   ],
   "source": [
    "name1='balu'\n",
    "print(name1)"
   ]
  },
  {
   "cell_type": "code",
   "execution_count": 16,
   "id": "fb1e5e52-1a9f-41d7-ae51-915e5d77eb76",
   "metadata": {},
   "outputs": [
    {
     "ename": "SyntaxError",
     "evalue": "invalid syntax (2556313882.py, line 2)",
     "output_type": "error",
     "traceback": [
      "\u001b[1;36m  Cell \u001b[1;32mIn[16], line 2\u001b[1;36m\u001b[0m\n\u001b[1;33m    print(name@)\u001b[0m\n\u001b[1;37m               ^\u001b[0m\n\u001b[1;31mSyntaxError\u001b[0m\u001b[1;31m:\u001b[0m invalid syntax\n"
     ]
    }
   ],
   "source": [
    "name@='balu'\n",
    "print(name@)"
   ]
  },
  {
   "cell_type": "code",
   "execution_count": null,
   "id": "58ff4b0c-569c-4f9d-862f-f69c9572a53b",
   "metadata": {},
   "outputs": [],
   "source": []
  },
  {
   "cell_type": "code",
   "execution_count": null,
   "id": "fd8f66bd-14dc-46dd-b0ec-4e3e4a50447a",
   "metadata": {},
   "outputs": [],
   "source": [
    "String data type topic "
   ]
  },
  {
   "cell_type": "code",
   "execution_count": 18,
   "id": "1eea6826-a46b-4771-ac8f-9333d1549e5c",
   "metadata": {},
   "outputs": [
    {
     "name": "stdout",
     "output_type": "stream",
     "text": [
      "balu\n"
     ]
    }
   ],
   "source": [
    "name='balu' #===> single quote\n",
    "print(name)"
   ]
  },
  {
   "cell_type": "code",
   "execution_count": 22,
   "id": "6fde902e-bdd2-455d-85cd-cd2a62f716c9",
   "metadata": {},
   "outputs": [
    {
     "ename": "IndentationError",
     "evalue": "unexpected indent (2175449006.py, line 2)",
     "output_type": "error",
     "traceback": [
      "\u001b[1;36m  Cell \u001b[1;32mIn[22], line 2\u001b[1;36m\u001b[0m\n\u001b[1;33m    print(name1)\u001b[0m\n\u001b[1;37m    ^\u001b[0m\n\u001b[1;31mIndentationError\u001b[0m\u001b[1;31m:\u001b[0m unexpected indent\n"
     ]
    }
   ],
   "source": [
    "name1=\"balu\" #===> double quote\n",
    "    print(name1)"
   ]
  },
  {
   "cell_type": "code",
   "execution_count": 24,
   "id": "92c08d70-6d9c-4613-827c-b523a402843b",
   "metadata": {},
   "outputs": [
    {
     "name": "stdout",
     "output_type": "stream",
     "text": [
      "balu\n"
     ]
    }
   ],
   "source": [
    "name1=\"balu\" #===> double quote\n",
    "print(name1)"
   ]
  },
  {
   "cell_type": "code",
   "execution_count": 26,
   "id": "d709f0f5-1e6e-42e6-ace8-912a9594fd31",
   "metadata": {},
   "outputs": [
    {
     "data": {
      "text/plain": [
       "str"
      ]
     },
     "execution_count": 26,
     "metadata": {},
     "output_type": "execute_result"
    }
   ],
   "source": [
    "type(name)"
   ]
  },
  {
   "cell_type": "code",
   "execution_count": 28,
   "id": "8a9fd37e-b996-41ba-a010-465a0d3260c3",
   "metadata": {},
   "outputs": [
    {
     "data": {
      "text/plain": [
       "str"
      ]
     },
     "execution_count": 28,
     "metadata": {},
     "output_type": "execute_result"
    }
   ],
   "source": [
    "type(name1)"
   ]
  },
  {
   "cell_type": "code",
   "execution_count": null,
   "id": "a69bb3e1-b612-43a1-9cd0-49b5e7c1c0cb",
   "metadata": {},
   "outputs": [],
   "source": []
  },
  {
   "cell_type": "code",
   "execution_count": null,
   "id": "286dde52-3cc8-4f51-ab2c-130434d763bc",
   "metadata": {},
   "outputs": [],
   "source": [
    "String methods:\n",
    "\n",
    "1. title:"
   ]
  },
  {
   "cell_type": "code",
   "execution_count": 30,
   "id": "5fae2024-50e1-47d5-8583-a9a21275d051",
   "metadata": {},
   "outputs": [
    {
     "name": "stdout",
     "output_type": "stream",
     "text": [
      "balu aravindh\n"
     ]
    }
   ],
   "source": [
    "fname='balu aravindh'\n",
    "print(fname)"
   ]
  },
  {
   "cell_type": "code",
   "execution_count": 32,
   "id": "2306bb17-2afe-458a-9c72-9cae98121305",
   "metadata": {},
   "outputs": [
    {
     "name": "stdout",
     "output_type": "stream",
     "text": [
      "Balu Aravindh\n"
     ]
    }
   ],
   "source": [
    "print(fname.title())"
   ]
  },
  {
   "cell_type": "code",
   "execution_count": null,
   "id": "ff3c7c24-08cf-4b47-b150-90a164070b1d",
   "metadata": {},
   "outputs": [],
   "source": [
    "2. upper:"
   ]
  },
  {
   "cell_type": "code",
   "execution_count": 34,
   "id": "9d05a83b-9d73-4233-905c-151937e10850",
   "metadata": {},
   "outputs": [
    {
     "name": "stdout",
     "output_type": "stream",
     "text": [
      "BALU ARAVINDH\n"
     ]
    }
   ],
   "source": [
    "lname=\"balu aravindh\"\n",
    "print(lname.upper())"
   ]
  },
  {
   "cell_type": "code",
   "execution_count": 36,
   "id": "99ef24d7-3a72-4392-9e46-f895a170f8c7",
   "metadata": {},
   "outputs": [
    {
     "name": "stdout",
     "output_type": "stream",
     "text": [
      "balu aravindh\n"
     ]
    }
   ],
   "source": [
    "print(lname)"
   ]
  },
  {
   "cell_type": "code",
   "execution_count": null,
   "id": "061525cf-576b-4eda-8506-cb5f3cdf98e8",
   "metadata": {},
   "outputs": [],
   "source": [
    "3. lower:"
   ]
  },
  {
   "cell_type": "code",
   "execution_count": 38,
   "id": "25db5f21-4f85-47b6-b938-07a72ae699f7",
   "metadata": {},
   "outputs": [
    {
     "name": "stdout",
     "output_type": "stream",
     "text": [
      "balu aravindh\n"
     ]
    }
   ],
   "source": [
    "uname='BALU ARAVINDH'\n",
    "print(uname.lower())"
   ]
  },
  {
   "cell_type": "code",
   "execution_count": 42,
   "id": "3d442f09-9271-4bc1-9880-c9b5f8a8c7b3",
   "metadata": {},
   "outputs": [
    {
     "ename": "SyntaxError",
     "evalue": "unterminated string literal (detected at line 3) (3291234240.py, line 3)",
     "output_type": "error",
     "traceback": [
      "\u001b[1;36m  Cell \u001b[1;32mIn[42], line 3\u001b[1;36m\u001b[0m\n\u001b[1;33m    sname='balu\"\u001b[0m\n\u001b[1;37m          ^\u001b[0m\n\u001b[1;31mSyntaxError\u001b[0m\u001b[1;31m:\u001b[0m unterminated string literal (detected at line 3)\n"
     ]
    }
   ],
   "source": [
    "#Suppose if we by mistakenly give a string within the open single and closed double quotes like below syntax then will get error.\n",
    "\n",
    "sname='balu\"\n",
    "print(sname)"
   ]
  },
  {
   "cell_type": "code",
   "execution_count": null,
   "id": "3c7dd08e-df1e-4bd9-8701-f260bc34e02f",
   "metadata": {},
   "outputs": [],
   "source": []
  }
 ],
 "metadata": {
  "kernelspec": {
   "display_name": "Python 3 (ipykernel)",
   "language": "python",
   "name": "python3"
  },
  "language_info": {
   "codemirror_mode": {
    "name": "ipython",
    "version": 3
   },
   "file_extension": ".py",
   "mimetype": "text/x-python",
   "name": "python",
   "nbconvert_exporter": "python",
   "pygments_lexer": "ipython3",
   "version": "3.12.4"
  }
 },
 "nbformat": 4,
 "nbformat_minor": 5
}

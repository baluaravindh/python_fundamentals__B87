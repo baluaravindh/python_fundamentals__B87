{
 "cells": [
  {
   "cell_type": "code",
   "execution_count": null,
   "id": "64e27e85-4bfd-4a99-8cf5-aa2d99423d79",
   "metadata": {},
   "outputs": [],
   "source": [
    "Day 3 class is about continuation of string topic\n",
    "\n",
    "1. f string"
   ]
  },
  {
   "cell_type": "code",
   "execution_count": null,
   "id": "80925a43-47bd-42f9-8c2f-e649b7ba342a",
   "metadata": {},
   "outputs": [],
   "source": [
    "general syntax:- f\"any custom message{firstName}{lastName}...we can give n number of placeholders...{place_holdern}\""
   ]
  },
  {
   "cell_type": "code",
   "execution_count": 3,
   "id": "a15785bb-4606-45c0-825d-369c1e1b30ae",
   "metadata": {},
   "outputs": [
    {
     "name": "stdout",
     "output_type": "stream",
     "text": [
      "balu aravindh\n"
     ]
    }
   ],
   "source": [
    "firstName = 'balu'\n",
    "lastName = \" aravindh\"\n",
    "fullName = f\"{firstName}{lastName}\"\n",
    "print(fullName)"
   ]
  },
  {
   "cell_type": "code",
   "execution_count": null,
   "id": "221ab142-2b34-4ba2-8644-cd149ab99580",
   "metadata": {},
   "outputs": [],
   "source": []
  },
  {
   "cell_type": "code",
   "execution_count": null,
   "id": "e963be8b-49cf-45a6-92e6-e1fb3466dd44",
   "metadata": {},
   "outputs": [],
   "source": [
    "#above name in correct format using title method:-"
   ]
  },
  {
   "cell_type": "code",
   "execution_count": 9,
   "id": "94438629-97c0-4961-b546-a6b93eaf8259",
   "metadata": {},
   "outputs": [
    {
     "name": "stdout",
     "output_type": "stream",
     "text": [
      "Balu Aravindh\n"
     ]
    }
   ],
   "source": [
    "print(fullName.title())"
   ]
  },
  {
   "cell_type": "code",
   "execution_count": null,
   "id": "d76deb28-2a45-4560-9e58-5ba6a859dcd2",
   "metadata": {},
   "outputs": [],
   "source": []
  },
  {
   "cell_type": "code",
   "execution_count": null,
   "id": "23a9cdb0-3f15-4d51-a25e-a88a5da5ca66",
   "metadata": {},
   "outputs": [],
   "source": [
    "'''Suppose on daily life we will get a swiggy or zomato notifications right. Here the message is same for all but the name is different by their \n",
    " login name they will receive notifications. For that also we have to use f string like below as we already disscussed on general syntax.'''"
   ]
  },
  {
   "cell_type": "code",
   "execution_count": 15,
   "id": "c2a2636a-2d27-4d5e-8666-bd98be64a1e6",
   "metadata": {},
   "outputs": [
    {
     "name": "stdout",
     "output_type": "stream",
     "text": [
      "Hi Balu Aravindh, it's time for lunch\n"
     ]
    }
   ],
   "source": [
    "message=f\"Hi {fullName.title()}, it's time for lunch\"\n",
    "print(message)"
   ]
  },
  {
   "cell_type": "code",
   "execution_count": null,
   "id": "bd32d055-3626-4fd7-89dd-9aa7b905951f",
   "metadata": {},
   "outputs": [],
   "source": []
  },
  {
   "cell_type": "code",
   "execution_count": null,
   "id": "44494bcc-ae68-4567-9e6c-96f2e34bb438",
   "metadata": {},
   "outputs": [],
   "source": [
    "Introduction to adding white spaces to strings:-\n",
    "\n",
    "2. adding white spaces:"
   ]
  },
  {
   "cell_type": "code",
   "execution_count": 17,
   "id": "c4bfaebe-a5e0-45f1-94e3-c6fdb4c0b4e7",
   "metadata": {},
   "outputs": [
    {
     "name": "stdout",
     "output_type": "stream",
     "text": [
      "favourite_programming_lans : PythonJavaCC++C#Ruby\n"
     ]
    }
   ],
   "source": [
    "print(\"favourite_programming_lans : PythonJavaCC++C#Ruby\")"
   ]
  },
  {
   "cell_type": "code",
   "execution_count": null,
   "id": "218f7f55-3ec4-490e-ad6b-4e1fc9ae7e24",
   "metadata": {},
   "outputs": [],
   "source": [
    "now we will add white spaces for above string"
   ]
  },
  {
   "cell_type": "code",
   "execution_count": 27,
   "id": "a906c089-3838-444f-a3b0-bb61c6b74dab",
   "metadata": {},
   "outputs": [
    {
     "name": "stdout",
     "output_type": "stream",
     "text": [
      "favourite_programming_lans :\n",
      "Python\n",
      "Java\n",
      "C\n",
      "C++\n",
      "C#\n",
      "Ruby\n"
     ]
    }
   ],
   "source": [
    "print(\"favourite_programming_lans :\\nPython\\nJava\\nC\\nC++\\nC#\\nRuby\")"
   ]
  },
  {
   "cell_type": "code",
   "execution_count": null,
   "id": "3eeaca41-6a3f-4c5a-b913-c0e97b1c4321",
   "metadata": {},
   "outputs": [],
   "source": [
    "\\n is a new line delimiter which means it will separate the string and added to the new line"
   ]
  },
  {
   "cell_type": "code",
   "execution_count": null,
   "id": "3c6c8673-aaff-4f23-876a-706c87f0b819",
   "metadata": {},
   "outputs": [],
   "source": []
  },
  {
   "cell_type": "code",
   "execution_count": null,
   "id": "187e7d79-e4c7-48a5-8c23-7e33d1f64428",
   "metadata": {},
   "outputs": [],
   "source": [
    "3. adding white spaces with tab:"
   ]
  },
  {
   "cell_type": "code",
   "execution_count": 31,
   "id": "51d45dbe-b81c-4e70-93ff-a5d070757bd3",
   "metadata": {},
   "outputs": [
    {
     "name": "stdout",
     "output_type": "stream",
     "text": [
      "favourite_programming_lans :\n",
      "\tPython\n",
      "\tJava\n",
      "\tC\n",
      "\tC++\n",
      "\tC#\n",
      "\tRuby\n"
     ]
    }
   ],
   "source": [
    "print(\"favourite_programming_lans :\\n\\tPython\\n\\tJava\\n\\tC\\n\\tC++\\n\\tC#\\n\\tRuby\")"
   ]
  },
  {
   "cell_type": "code",
   "execution_count": null,
   "id": "a7d76cba-b439-4dc9-a8ce-74808c47cc27",
   "metadata": {},
   "outputs": [],
   "source": [
    "\\t is a tab delimiter which means wherever we give the tab spaces it will give extra spaces to the existing white spaces string"
   ]
  },
  {
   "cell_type": "code",
   "execution_count": null,
   "id": "a793790c-bd9a-4b19-9f58-91f9c18635fd",
   "metadata": {},
   "outputs": [],
   "source": []
  },
  {
   "cell_type": "code",
   "execution_count": null,
   "id": "06d23bcb-4681-4e94-a7f7-406287a4ddbf",
   "metadata": {},
   "outputs": [],
   "source": [
    "4. remove white spaces in the string:\n",
    "\n",
    "The strip method() has three ways to remove the white spaces.\n",
    "\t\t\n",
    "\t\t1. lstrip()\n",
    "\t\t\n",
    "\t\t2. rstrip()\n",
    "\t\t\n",
    "\t\t3. strip()"
   ]
  },
  {
   "cell_type": "code",
   "execution_count": 35,
   "id": "b59a5a54-c58a-4394-8b84-c04499818d4d",
   "metadata": {},
   "outputs": [
    {
     "name": "stdout",
     "output_type": "stream",
     "text": [
      " balu\n",
      "balu\n"
     ]
    }
   ],
   "source": [
    "name=\" balu\" #removing the space on left side\n",
    "print(name)\n",
    "print(name.lstrip())"
   ]
  },
  {
   "cell_type": "code",
   "execution_count": 37,
   "id": "294b99ae-49c3-485f-939a-c267415dc3d2",
   "metadata": {},
   "outputs": [
    {
     "name": "stdout",
     "output_type": "stream",
     "text": [
      "balu \n",
      "balu\n"
     ]
    }
   ],
   "source": [
    "name1=\"balu \" #removing the space on right side\n",
    "print(name1)\n",
    "print(name1.rstrip())"
   ]
  },
  {
   "cell_type": "code",
   "execution_count": 43,
   "id": "6230b2ea-a612-4fa5-9521-82c64e638dea",
   "metadata": {},
   "outputs": [
    {
     "name": "stdout",
     "output_type": "stream",
     "text": [
      " balu aravindh g \n",
      "balu aravindh g\n"
     ]
    }
   ],
   "source": [
    "name2=\" balu aravindh g \" #removing spaces on both left and right side by using strip method\n",
    "print(name2)\n",
    "print(name2.strip())"
   ]
  },
  {
   "cell_type": "code",
   "execution_count": null,
   "id": "529ba1a7-e9fa-477a-aeed-c3129565fb62",
   "metadata": {},
   "outputs": [],
   "source": []
  },
  {
   "cell_type": "code",
   "execution_count": null,
   "id": "cac4c377-fd6f-4139-9461-677980337dd7",
   "metadata": {},
   "outputs": [],
   "source": [
    "zen of python:\n",
    "\n",
    "Definition:- The zen of python is the collection of 19 aphorisms of design principles of python programming language. Here the aphorisms emphasize the \n",
    "importance of code readability, simplicity and clarity. It is authored by Tim Peter. We can access these 19 guidelines by \"import this\". After running this \n",
    "we will get those guidelines in the terminal."
   ]
  },
  {
   "cell_type": "code",
   "execution_count": 45,
   "id": "9cb1f72c-1fe1-4578-976e-ddacf448ce48",
   "metadata": {},
   "outputs": [
    {
     "name": "stdout",
     "output_type": "stream",
     "text": [
      "The Zen of Python, by Tim Peters\n",
      "\n",
      "Beautiful is better than ugly.\n",
      "Explicit is better than implicit.\n",
      "Simple is better than complex.\n",
      "Complex is better than complicated.\n",
      "Flat is better than nested.\n",
      "Sparse is better than dense.\n",
      "Readability counts.\n",
      "Special cases aren't special enough to break the rules.\n",
      "Although practicality beats purity.\n",
      "Errors should never pass silently.\n",
      "Unless explicitly silenced.\n",
      "In the face of ambiguity, refuse the temptation to guess.\n",
      "There should be one-- and preferably only one --obvious way to do it.\n",
      "Although that way may not be obvious at first unless you're Dutch.\n",
      "Now is better than never.\n",
      "Although never is often better than *right* now.\n",
      "If the implementation is hard to explain, it's a bad idea.\n",
      "If the implementation is easy to explain, it may be a good idea.\n",
      "Namespaces are one honking great idea -- let's do more of those!\n"
     ]
    }
   ],
   "source": [
    "import this"
   ]
  },
  {
   "cell_type": "code",
   "execution_count": null,
   "id": "9df1ad42-b5df-46f7-9c8b-80fb0f403220",
   "metadata": {},
   "outputs": [],
   "source": []
  }
 ],
 "metadata": {
  "kernelspec": {
   "display_name": "Python 3 (ipykernel)",
   "language": "python",
   "name": "python3"
  },
  "language_info": {
   "codemirror_mode": {
    "name": "ipython",
    "version": 3
   },
   "file_extension": ".py",
   "mimetype": "text/x-python",
   "name": "python",
   "nbconvert_exporter": "python",
   "pygments_lexer": "ipython3",
   "version": "3.12.4"
  }
 },
 "nbformat": 4,
 "nbformat_minor": 5
}

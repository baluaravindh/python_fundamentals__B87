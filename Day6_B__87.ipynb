{
 "cells": [
  {
   "cell_type": "code",
   "execution_count": null,
   "id": "3ceff930-8c07-4d35-bba6-a3d62f00172b",
   "metadata": {},
   "outputs": [],
   "source": [
    "Day5 class about Continuation of list DataType:-\n",
    "\n",
    "Introduction to looping statements:-\n",
    "------------------------------------"
   ]
  },
  {
   "cell_type": "code",
   "execution_count": null,
   "id": "5ede0b34-a14e-4015-b345-4078494bc118",
   "metadata": {},
   "outputs": [],
   "source": [
    "#for loop\n",
    "\n",
    "#General syntax:-\n",
    "\n",
    "    for tempVar in perVar:\n",
    "        print(tempVar)"
   ]
  },
  {
   "cell_type": "code",
   "execution_count": 37,
   "id": "e706fa14-b777-49ce-830b-540a641f58ef",
   "metadata": {},
   "outputs": [
    {
     "name": "stdout",
     "output_type": "stream",
     "text": [
      "['balu', 'aravindh', 'giri', 'ravi', 'shameer', 'sanju', 'sharu']\n"
     ]
    }
   ],
   "source": [
    "students=[\"balu\",\"aravindh\",\"giri\",\"ravi\",\"shameer\",\"sanju\",\"sharu\"]\n",
    "print(students)"
   ]
  },
  {
   "cell_type": "code",
   "execution_count": 39,
   "id": "c3bddb04-03e9-4a5d-8f18-02fbd416fb42",
   "metadata": {},
   "outputs": [
    {
     "name": "stdout",
     "output_type": "stream",
     "text": [
      "Keep up the good work, Balu\n"
     ]
    }
   ],
   "source": [
    "print(f\"Keep up the good work, {students[0].title()}\")"
   ]
  },
  {
   "cell_type": "code",
   "execution_count": null,
   "id": "e6646f98-4442-4bd7-bdef-35c11fc97ff2",
   "metadata": {},
   "outputs": [],
   "source": [
    "#1. Req:- Now i want that custom message to every student. For that now i will use the for loop."
   ]
  },
  {
   "cell_type": "code",
   "execution_count": 41,
   "id": "c31452fc-ac1e-4334-bffd-be9d9390f49f",
   "metadata": {},
   "outputs": [
    {
     "name": "stdout",
     "output_type": "stream",
     "text": [
      "Keep up the good work, Balu\n",
      "Keep up the good work, Aravindh\n",
      "Keep up the good work, Giri\n",
      "Keep up the good work, Ravi\n",
      "Keep up the good work, Shameer\n",
      "Keep up the good work, Sanju\n",
      "Keep up the good work, Sharu\n"
     ]
    }
   ],
   "source": [
    "for student in students:\n",
    "    print(f\"Keep up the good work, {student.title()}\")"
   ]
  },
  {
   "cell_type": "code",
   "execution_count": null,
   "id": "ae7d54ef-d26e-443b-b1da-dd70b2d2b816",
   "metadata": {},
   "outputs": [],
   "source": [
    "#2. Req:- Now i want some space in between the every name. for that we will use new line delimeter \\n."
   ]
  },
  {
   "cell_type": "code",
   "execution_count": 43,
   "id": "a79f33db-09d5-4d4e-8c11-80ce9573e74f",
   "metadata": {},
   "outputs": [
    {
     "name": "stdout",
     "output_type": "stream",
     "text": [
      "Keep up the good work, Balu\n",
      "\n",
      "Keep up the good work, Aravindh\n",
      "\n",
      "Keep up the good work, Giri\n",
      "\n",
      "Keep up the good work, Ravi\n",
      "\n",
      "Keep up the good work, Shameer\n",
      "\n",
      "Keep up the good work, Sanju\n",
      "\n",
      "Keep up the good work, Sharu\n",
      "\n"
     ]
    }
   ],
   "source": [
    "for student in students:\n",
    "    print(f\"Keep up the good work, {student.title()}\\n\")"
   ]
  },
  {
   "cell_type": "code",
   "execution_count": null,
   "id": "f684f633-c9f4-4a65-bd6f-0be31b1b628d",
   "metadata": {},
   "outputs": [],
   "source": [
    "#3. Req:- Now i want some more custom message has to be add to the loop and new line delimeter as well. Iam waiting for today's submission."
   ]
  },
  {
   "cell_type": "code",
   "execution_count": 59,
   "id": "9d637678-2f5a-471b-ac2b-2c9116a2e16d",
   "metadata": {},
   "outputs": [
    {
     "name": "stdout",
     "output_type": "stream",
     "text": [
      "Keep up the good work, Balu.\n",
      "I am waiting for today's submission, Balu!...\n",
      "\n",
      "Keep up the good work, Aravindh.\n",
      "I am waiting for today's submission, Aravindh!...\n",
      "\n",
      "Keep up the good work, Giri.\n",
      "I am waiting for today's submission, Giri!...\n",
      "\n",
      "Keep up the good work, Ravi.\n",
      "I am waiting for today's submission, Ravi!...\n",
      "\n",
      "Keep up the good work, Shameer.\n",
      "I am waiting for today's submission, Shameer!...\n",
      "\n",
      "Keep up the good work, Sanju.\n",
      "I am waiting for today's submission, Sanju!...\n",
      "\n",
      "Keep up the good work, Sharu.\n",
      "I am waiting for today's submission, Sharu!...\n",
      "\n"
     ]
    }
   ],
   "source": [
    "for student in students:\n",
    "    print(f\"Keep up the good work, {student.title()}.\")\n",
    "    print(f\"I am waiting for today's submission, {student.title()}!...\\n\")"
   ]
  },
  {
   "cell_type": "code",
   "execution_count": null,
   "id": "0fc95a77-c181-4c51-8769-c903179c0230",
   "metadata": {},
   "outputs": [],
   "source": [
    "#4. Req:- Now i printed 2 custom messages inside the loop. Now i want to print some thanks message after the loop which means outside of the loop."
   ]
  },
  {
   "cell_type": "code",
   "execution_count": 61,
   "id": "90b1db75-18c8-42d0-a242-fa9ce482efb6",
   "metadata": {},
   "outputs": [
    {
     "name": "stdout",
     "output_type": "stream",
     "text": [
      "Keep up the good work, Balu.\n",
      "I am waiting for today's submission, Balu...!\n",
      "\n",
      "Keep up the good work, Aravindh.\n",
      "I am waiting for today's submission, Aravindh...!\n",
      "\n",
      "Keep up the good work, Giri.\n",
      "I am waiting for today's submission, Giri...!\n",
      "\n",
      "Keep up the good work, Ravi.\n",
      "I am waiting for today's submission, Ravi...!\n",
      "\n",
      "Keep up the good work, Shameer.\n",
      "I am waiting for today's submission, Shameer...!\n",
      "\n",
      "Keep up the good work, Sanju.\n",
      "I am waiting for today's submission, Sanju...!\n",
      "\n",
      "Keep up the good work, Sharu.\n",
      "I am waiting for today's submission, Sharu...!\n",
      "\n",
      "Please ignore if already submitted today's session practice class. Thanks for participating and showing interest in learning Python.\n"
     ]
    }
   ],
   "source": [
    "for student in students:\n",
    "    print(f\"Keep up the good work, {student.title()}.\")\n",
    "    print(f\"I am waiting for today's submission, {student.title()}...!\\n\")\n",
    "print(\"Please ignore if already submitted today's session practice class. Thanks for participating and showing interest in learning Python.\")"
   ]
  },
  {
   "cell_type": "code",
   "execution_count": null,
   "id": "ad0db5ef-befd-403c-a194-a906c09edb72",
   "metadata": {},
   "outputs": [],
   "source": []
  },
  {
   "cell_type": "code",
   "execution_count": 33,
   "id": "c28c0842-8035-4d2c-aa3d-1800fa745430",
   "metadata": {},
   "outputs": [],
   "source": [
    "#I'll show some example that why we have to give some space for print statement inside for loop."
   ]
  },
  {
   "cell_type": "code",
   "execution_count": 47,
   "id": "e7fda2e2-d6b1-42f2-b7dd-417c6962c7a3",
   "metadata": {},
   "outputs": [
    {
     "ename": "IndentationError",
     "evalue": "expected an indented block after 'for' statement on line 1 (1986919668.py, line 2)",
     "output_type": "error",
     "traceback": [
      "\u001b[1;36m  Cell \u001b[1;32mIn[47], line 2\u001b[1;36m\u001b[0m\n\u001b[1;33m    print(f\"Keep up the good work, {student.title()}\\n\")\u001b[0m\n\u001b[1;37m    ^\u001b[0m\n\u001b[1;31mIndentationError\u001b[0m\u001b[1;31m:\u001b[0m expected an indented block after 'for' statement on line 1\n"
     ]
    }
   ],
   "source": [
    "for student in students:\n",
    "print(f\"Keep up the good work, {student.title()}\\n\")"
   ]
  },
  {
   "cell_type": "code",
   "execution_count": null,
   "id": "4abea58f-cb7d-4585-aba7-e69a28222b85",
   "metadata": {},
   "outputs": [],
   "source": []
  }
 ],
 "metadata": {
  "kernelspec": {
   "display_name": "Python 3 (ipykernel)",
   "language": "python",
   "name": "python3"
  },
  "language_info": {
   "codemirror_mode": {
    "name": "ipython",
    "version": 3
   },
   "file_extension": ".py",
   "mimetype": "text/x-python",
   "name": "python",
   "nbconvert_exporter": "python",
   "pygments_lexer": "ipython3",
   "version": "3.12.4"
  }
 },
 "nbformat": 4,
 "nbformat_minor": 5
}

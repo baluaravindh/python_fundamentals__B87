{
 "cells": [
  {
   "cell_type": "code",
   "execution_count": null,
   "id": "9dbd6eed-04f8-465e-9b75-b1c307b26000",
   "metadata": {
    "editable": true,
    "slideshow": {
     "slide_type": ""
    },
    "tags": []
   },
   "outputs": [],
   "source": [
    "Day5 class about Continuation of list DataType:-\n",
    "\n",
    "Organising the list datatypes:-\n",
    "-------------------------------"
   ]
  },
  {
   "cell_type": "code",
   "execution_count": 2,
   "id": "2b56063a-92b9-4a31-9494-e3bab51c53b8",
   "metadata": {},
   "outputs": [
    {
     "name": "stdout",
     "output_type": "stream",
     "text": [
      "['range rover', 'mercedes benz', 'bmw', 'benetly', 'audi', 'mini cooper', 'toyato']\n"
     ]
    }
   ],
   "source": [
    "cars = [\"range rover\",\"mercedes benz\",\"bmw\",\"benetly\",\"audi\",\"mini cooper\",\"toyato\"]\n",
    "print(cars)"
   ]
  },
  {
   "cell_type": "code",
   "execution_count": null,
   "id": "cb96bbae-c71a-458b-9b18-5eaa61170c7e",
   "metadata": {},
   "outputs": [],
   "source": []
  },
  {
   "cell_type": "code",
   "execution_count": null,
   "id": "ca01c826-9fd6-4ab5-ac85-606f20fcb75e",
   "metadata": {},
   "outputs": [],
   "source": [
    "#Requirement:- I want the above list in ascending order which means in A - Z order.\n",
    "\n",
    "''' Approach:-\n",
    "   -----------\n",
    "\t\tThere are two ways temporary and permanent approach. \n",
    "\t\t\n",
    "\t\t\t1. sorted:- It just prints in the sorted way at that time only when we use this method, if again we print the list it will give in the before manner.\n",
    "\t\t\t2. sort:- It always prints in the sorted way by using this method.'''"
   ]
  },
  {
   "cell_type": "code",
   "execution_count": 12,
   "id": "a396902d-56b5-453d-8f55-4f708ac5ce0b",
   "metadata": {},
   "outputs": [
    {
     "name": "stdout",
     "output_type": "stream",
     "text": [
      "['range rover', 'mercedes benz', 'bmw', 'benetly', 'audi', 'mini cooper', 'toyato']\n"
     ]
    }
   ],
   "source": [
    "print(cars)"
   ]
  },
  {
   "cell_type": "code",
   "execution_count": 16,
   "id": "a7342302-f5e2-49d3-9d45-69a401d7be19",
   "metadata": {},
   "outputs": [
    {
     "name": "stdout",
     "output_type": "stream",
     "text": [
      "['audi', 'benetly', 'bmw', 'mercedes benz', 'mini cooper', 'range rover', 'toyato']\n"
     ]
    }
   ],
   "source": [
    "#1. By using a sorted method which means a temporary process.\n",
    "print(sorted(cars))"
   ]
  },
  {
   "cell_type": "code",
   "execution_count": 18,
   "id": "1566c093-edfd-4ec0-bc74-484fbe38ce4a",
   "metadata": {},
   "outputs": [
    {
     "name": "stdout",
     "output_type": "stream",
     "text": [
      "['range rover', 'mercedes benz', 'bmw', 'benetly', 'audi', 'mini cooper', 'toyato']\n"
     ]
    }
   ],
   "source": [
    "print(cars)"
   ]
  },
  {
   "cell_type": "code",
   "execution_count": 26,
   "id": "3dd3a4bf-bd83-4bfb-95ce-cafd49ab248e",
   "metadata": {},
   "outputs": [
    {
     "name": "stdout",
     "output_type": "stream",
     "text": [
      "['audi', 'benetly', 'bmw', 'mercedes benz', 'mini cooper', 'range rover', 'toyato']\n"
     ]
    }
   ],
   "source": [
    "#2. By using a sort method which means a permanent process.\n",
    "cars.sort()\n",
    "print(cars)"
   ]
  },
  {
   "cell_type": "code",
   "execution_count": 28,
   "id": "b2b43f1d-d5aa-4dde-8872-e7c3db07374c",
   "metadata": {},
   "outputs": [
    {
     "name": "stdout",
     "output_type": "stream",
     "text": [
      "['audi', 'benetly', 'bmw', 'mercedes benz', 'mini cooper', 'range rover', 'toyato']\n"
     ]
    }
   ],
   "source": [
    "print(cars)"
   ]
  },
  {
   "cell_type": "code",
   "execution_count": 36,
   "id": "81a50f95-1ea5-4589-8f27-5449892948c8",
   "metadata": {},
   "outputs": [
    {
     "name": "stdout",
     "output_type": "stream",
     "text": [
      "['toyato', 'range rover', 'mini cooper', 'mercedes benz', 'bmw', 'benetly', 'audi']\n"
     ]
    }
   ],
   "source": [
    "#3. If I want the above list in reverse order which means descending order then we have to use the reverse() method.\n",
    "cars.reverse()\n",
    "print(cars)"
   ]
  },
  {
   "cell_type": "code",
   "execution_count": 38,
   "id": "b7016fd3-bcbc-4e89-ab35-fb8441fa1567",
   "metadata": {},
   "outputs": [
    {
     "name": "stdout",
     "output_type": "stream",
     "text": [
      "7\n"
     ]
    }
   ],
   "source": [
    "#4. If we want to find the length, meaning how many names are inside the list, we use the len() method.\n",
    "print(len(cars))"
   ]
  },
  {
   "cell_type": "code",
   "execution_count": null,
   "id": "6c395d7a-e862-4686-bb42-c6d86a7dae47",
   "metadata": {},
   "outputs": [],
   "source": []
  },
  {
   "cell_type": "code",
   "execution_count": null,
   "id": "866d8be7-8514-4cc8-b0e8-c2c7aad6976d",
   "metadata": {},
   "outputs": [],
   "source": [
    "Introduction to Slicing:-\n",
    "-------------------------\n",
    "\t\n",
    "General Syntax for slicing is :-\n",
    "[start value: stop value: step value]"
   ]
  },
  {
   "cell_type": "code",
   "execution_count": 40,
   "id": "d7fab198-4328-42e0-90d6-6f6b6f839afa",
   "metadata": {},
   "outputs": [
    {
     "name": "stdout",
     "output_type": "stream",
     "text": [
      "['balu', 'aravindh', 'giri', 'ravi', 'shameer', 'sanju', 'sharu']\n"
     ]
    }
   ],
   "source": [
    "students=[\"balu\",\"aravindh\",\"giri\",\"ravi\",\"shameer\",\"sanju\",\"sharu\"]\n",
    "print(students)"
   ]
  },
  {
   "cell_type": "code",
   "execution_count": 44,
   "id": "1ff024e9-a884-4444-bbaf-27e59eed7fd7",
   "metadata": {},
   "outputs": [
    {
     "name": "stdout",
     "output_type": "stream",
     "text": [
      "ravi\n"
     ]
    }
   ],
   "source": [
    "#req:- i want to print ravi\n",
    "print(students[3])"
   ]
  },
  {
   "cell_type": "code",
   "execution_count": 42,
   "id": "1b5213c0-23fb-4db6-b6f4-470da8a18011",
   "metadata": {},
   "outputs": [
    {
     "name": "stdout",
     "output_type": "stream",
     "text": [
      "['aravindh', 'giri', 'ravi', 'shameer']\n"
     ]
    }
   ],
   "source": [
    "#req:- i want to print aravindh to shameer\n",
    "print(students[1:5])"
   ]
  },
  {
   "cell_type": "code",
   "execution_count": null,
   "id": "daf9cca0-7390-4477-98a7-ba870ebbff29",
   "metadata": {},
   "outputs": [],
   "source": [
    "'''Note: If you see the above print statement, the requirement is to print till 4 which means till Shameer right? But I gave it 1:5 because Python list slicing\n",
    "follows the rule n+1. If you assume the element is an n, then you think you will have to print till you expected, then we have \n",
    "to increase that with 1 so it looks like the n=n+1 formula.'''"
   ]
  },
  {
   "cell_type": "code",
   "execution_count": 62,
   "id": "abae349b-1a8f-4452-95c6-dcad88ab1725",
   "metadata": {},
   "outputs": [
    {
     "name": "stdout",
     "output_type": "stream",
     "text": [
      "['balu', 'giri', 'shameer', 'sharu']\n"
     ]
    }
   ],
   "source": [
    "#req:- i want to skip every 2nd index in that list. so my output should be [balu,giri,shameer,sharu]\n",
    "print(students[0:7:2])"
   ]
  },
  {
   "cell_type": "code",
   "execution_count": null,
   "id": "dc979aed-0203-401b-9b3f-f41297dfb6d8",
   "metadata": {
    "editable": true,
    "slideshow": {
     "slide_type": ""
    },
    "tags": []
   },
   "outputs": [],
   "source": [
    "'''Note: If you see the above print statement, the start count I took is 0 and the stop count is 7 because the total index in that list is 6 if we want to print till Sharu \n",
    "then we have to increase as per the rule right, so I took 7 and the step count is 2. When I run that it will evaluate and it will print starting from the 0th index \n",
    "so balu will print then as per step count the 2nd index will be skipped so Aravindh will be skipped, Giri will print and again 2nd element Ravi will skipped, \n",
    "Shameer will print as same the process follows till the end, so that it behaves like my above statements. So we got the correct output as we expected.'''"
   ]
  },
  {
   "cell_type": "code",
   "execution_count": null,
   "id": "46807ce1-69be-4e61-8c21-db37165dbe70",
   "metadata": {},
   "outputs": [],
   "source": []
  },
  {
   "cell_type": "code",
   "execution_count": null,
   "id": "73931a65-e056-482a-8596-033d1a831b4c",
   "metadata": {},
   "outputs": [],
   "source": []
  }
 ],
 "metadata": {
  "kernelspec": {
   "display_name": "Python 3 (ipykernel)",
   "language": "python",
   "name": "python3"
  },
  "language_info": {
   "codemirror_mode": {
    "name": "ipython",
    "version": 3
   },
   "file_extension": ".py",
   "mimetype": "text/x-python",
   "name": "python",
   "nbconvert_exporter": "python",
   "pygments_lexer": "ipython3",
   "version": "3.12.4"
  }
 },
 "nbformat": 4,
 "nbformat_minor": 5
}

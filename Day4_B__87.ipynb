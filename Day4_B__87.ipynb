{
 "cells": [
  {
   "cell_type": "code",
   "execution_count": null,
   "id": "a50bbf41-8fff-406a-9f81-ef2bd6099251",
   "metadata": {},
   "outputs": [],
   "source": [
    "Day4 class is about introduction to the list datatype:-\n",
    "\n",
    "Definition:- A list is a collection of items declared in a particular order. We can use any data type either string, integer or float inside \n",
    "the list datatype.\n",
    "\n",
    "Classification:- It is mutable, meaning we can modify or alter the existing list.\n",
    "\n",
    "General Syntax:- We have to give the list data inside the square braces[]."
   ]
  },
  {
   "cell_type": "code",
   "execution_count": null,
   "id": "ac1cf58c-004e-474d-877f-7dbd3d42d774",
   "metadata": {},
   "outputs": [],
   "source": []
  },
  {
   "cell_type": "code",
   "execution_count": 4,
   "id": "7b080a52-910d-4706-91ad-9cdcddf3a501",
   "metadata": {},
   "outputs": [
    {
     "name": "stdout",
     "output_type": "stream",
     "text": [
      "['balu', 'ravi', 'girisha']\n"
     ]
    }
   ],
   "source": [
    "students=[\"balu\",\"ravi\",\"girisha\"]\n",
    "print(students)"
   ]
  },
  {
   "cell_type": "code",
   "execution_count": null,
   "id": "e5d01d4d-938b-48c2-8f6e-4b77786a61ed",
   "metadata": {},
   "outputs": [],
   "source": []
  },
  {
   "cell_type": "code",
   "execution_count": null,
   "id": "cef62db3-af66-46d2-b214-2aec29b56d59",
   "metadata": {},
   "outputs": [],
   "source": [
    "Introduction to indexing:-\n",
    "\n",
    "The list follows the index. The list starts from 0. For example, we have 3 students in the list, meaning we have 3 index values. \n",
    "\n",
    "#Now the requirement is I have the student girisha so the index value for girisha is 2. "
   ]
  },
  {
   "cell_type": "code",
   "execution_count": null,
   "id": "5b3e878d-d0c9-436d-9e33-a48e09fb982e",
   "metadata": {},
   "outputs": [],
   "source": []
  },
  {
   "cell_type": "code",
   "execution_count": 6,
   "id": "b22e9f8d-8e9a-4a53-88f0-3f60875d7bb6",
   "metadata": {},
   "outputs": [
    {
     "name": "stdout",
     "output_type": "stream",
     "text": [
      "girisha\n"
     ]
    }
   ],
   "source": [
    "print(students[2])"
   ]
  },
  {
   "cell_type": "code",
   "execution_count": null,
   "id": "241495bc-e580-4800-816c-191ea723eb83",
   "metadata": {},
   "outputs": [],
   "source": [
    "We want the above index value in the correct format so that we will use the title() method."
   ]
  },
  {
   "cell_type": "code",
   "execution_count": 10,
   "id": "1f223379-3b15-463e-8c58-69682359cecd",
   "metadata": {},
   "outputs": [
    {
     "name": "stdout",
     "output_type": "stream",
     "text": [
      "Girisha\n"
     ]
    }
   ],
   "source": [
    "print(students[2].title())"
   ]
  },
  {
   "cell_type": "code",
   "execution_count": null,
   "id": "620e7f73-1498-4f08-8656-505bc084e6a5",
   "metadata": {},
   "outputs": [],
   "source": [
    "If suppose we have a 3 students name so we want the index value for the particular student. For that we have to use index() method."
   ]
  },
  {
   "cell_type": "code",
   "execution_count": 14,
   "id": "69fc7702-ba46-49ee-ae60-96c96b525bb2",
   "metadata": {},
   "outputs": [
    {
     "name": "stdout",
     "output_type": "stream",
     "text": [
      "1\n"
     ]
    }
   ],
   "source": [
    "print(students.index(\"ravi\"))"
   ]
  },
  {
   "cell_type": "code",
   "execution_count": null,
   "id": "5a082b07-bfc6-4494-a88f-58b9b685ffb4",
   "metadata": {},
   "outputs": [],
   "source": []
  },
  {
   "cell_type": "code",
   "execution_count": null,
   "id": "d631bd81-c1bc-4fd5-8a6f-a8979e365f0a",
   "metadata": {},
   "outputs": [],
   "source": [
    "'''Introduction to list methods:-\n",
    "\t\n",
    "\t1. How to add new element in the existing list.\n",
    "\t2. How to modify the element in the existing list.\n",
    "\t3. How to delete the element in the existing list.'''"
   ]
  },
  {
   "cell_type": "code",
   "execution_count": null,
   "id": "015a27ce-144a-4372-bb53-8d6eb8ceeaa3",
   "metadata": {},
   "outputs": [],
   "source": [
    "'''1. Adding the element in the list.\n",
    "\t\n",
    "\t\tFor adding the element we will use the append() method.'''"
   ]
  },
  {
   "cell_type": "code",
   "execution_count": 41,
   "id": "798d0739-b483-4a48-8aa7-75720b4df86b",
   "metadata": {},
   "outputs": [
    {
     "name": "stdout",
     "output_type": "stream",
     "text": [
      "['balu', 'ravi', 'girisha']\n"
     ]
    }
   ],
   "source": [
    "print(students)"
   ]
  },
  {
   "cell_type": "code",
   "execution_count": 43,
   "id": "0a4f9c5f-8f80-4d66-924f-aea82647b2ba",
   "metadata": {},
   "outputs": [],
   "source": [
    "students.append(\"niteesh\")"
   ]
  },
  {
   "cell_type": "code",
   "execution_count": 45,
   "id": "853de909-7fa9-4c1e-b3a9-9996b2ca4dfb",
   "metadata": {},
   "outputs": [
    {
     "name": "stdout",
     "output_type": "stream",
     "text": [
      "['balu', 'ravi', 'girisha', 'niteesh']\n"
     ]
    }
   ],
   "source": [
    "print(students)"
   ]
  },
  {
   "cell_type": "code",
   "execution_count": null,
   "id": "89e63965-09d7-4b67-a9cc-40d34916e0aa",
   "metadata": {},
   "outputs": [],
   "source": [
    "#Now the requirement is that we want to add the student in a specific index value. For that, we will use the insert() method."
   ]
  },
  {
   "cell_type": "code",
   "execution_count": 47,
   "id": "b903c6da-082a-4dd6-b52c-1c6b56df2d4b",
   "metadata": {},
   "outputs": [
    {
     "name": "stdout",
     "output_type": "stream",
     "text": [
      "['balu', 'aravindh', 'ravi', 'girisha', 'niteesh']\n"
     ]
    }
   ],
   "source": [
    "students.insert(1,\"aravindh\")\n",
    "print(students)"
   ]
  },
  {
   "cell_type": "code",
   "execution_count": null,
   "id": "2437d6dc-0d23-4c35-9443-480e4acb5ed0",
   "metadata": {},
   "outputs": [],
   "source": []
  },
  {
   "cell_type": "code",
   "execution_count": null,
   "id": "c9216d85-bfa6-4980-afac-1e72c38bb333",
   "metadata": {},
   "outputs": [],
   "source": [
    "'''2. Modifying the element in the list.\n",
    "\t\n",
    "\t\tFor example our requirement is modify the existing student name shameer with niteesh.'''"
   ]
  },
  {
   "cell_type": "code",
   "execution_count": 49,
   "id": "158a04f2-52dd-4876-9ede-49ec8a5c4cc5",
   "metadata": {},
   "outputs": [
    {
     "name": "stdout",
     "output_type": "stream",
     "text": [
      "['balu', 'aravindh', 'ravi', 'girisha', 'niteesh']\n"
     ]
    }
   ],
   "source": [
    "print(students)"
   ]
  },
  {
   "cell_type": "code",
   "execution_count": 51,
   "id": "594b81ca-f172-45d0-bf1f-32ca5a261d85",
   "metadata": {},
   "outputs": [
    {
     "name": "stdout",
     "output_type": "stream",
     "text": [
      "['balu', 'aravindh', 'ravi', 'girisha', 'shameer']\n"
     ]
    }
   ],
   "source": [
    "students[4]=\"shameer\"\n",
    "print(students)"
   ]
  },
  {
   "cell_type": "code",
   "execution_count": null,
   "id": "76a2e157-c7cc-45d3-918a-6f50a06b682c",
   "metadata": {},
   "outputs": [],
   "source": []
  },
  {
   "cell_type": "code",
   "execution_count": null,
   "id": "4f255433-be7a-42ae-bb8a-097a913c867f",
   "metadata": {},
   "outputs": [],
   "source": [
    "'''3. Deleting the element in the list.\n",
    "\t\n",
    "\t\tFor delete the element in the existing list we use del operator. We cannot use the delete if we use we will get an error.'''"
   ]
  },
  {
   "cell_type": "code",
   "execution_count": 53,
   "id": "0e9ee603-2326-4fea-a259-8d2933ae3d2a",
   "metadata": {},
   "outputs": [
    {
     "ename": "AttributeError",
     "evalue": "'list' object has no attribute 'delete'",
     "output_type": "error",
     "traceback": [
      "\u001b[1;31m---------------------------------------------------------------------------\u001b[0m",
      "\u001b[1;31mAttributeError\u001b[0m                            Traceback (most recent call last)",
      "Cell \u001b[1;32mIn[53], line 1\u001b[0m\n\u001b[1;32m----> 1\u001b[0m students\u001b[38;5;241m.\u001b[39mdelete\n",
      "\u001b[1;31mAttributeError\u001b[0m: 'list' object has no attribute 'delete'"
     ]
    }
   ],
   "source": [
    "students.delete"
   ]
  },
  {
   "cell_type": "code",
   "execution_count": 55,
   "id": "f7b8a4b0-7bba-4bb0-b2de-3f1945d1ea7d",
   "metadata": {},
   "outputs": [
    {
     "name": "stdout",
     "output_type": "stream",
     "text": [
      "['balu', 'ravi', 'girisha', 'shameer']\n"
     ]
    }
   ],
   "source": [
    "del students[1]\n",
    "print(students)"
   ]
  },
  {
   "cell_type": "code",
   "execution_count": null,
   "id": "c411afb3-9ca5-4c34-b94e-7cdb6e4fd214",
   "metadata": {},
   "outputs": [],
   "source": [
    "#We can use another method as well that is the pop() method."
   ]
  },
  {
   "cell_type": "code",
   "execution_count": 57,
   "id": "56ce9c78-c1ad-42c3-a8dd-9f269393fc0b",
   "metadata": {},
   "outputs": [
    {
     "name": "stdout",
     "output_type": "stream",
     "text": [
      "['balu', 'ravi', 'girisha']\n"
     ]
    }
   ],
   "source": [
    "students.pop(3)\n",
    "print(students)"
   ]
  },
  {
   "cell_type": "code",
   "execution_count": null,
   "id": "d91a250a-8cdc-4403-8481-3b264bf7556c",
   "metadata": {},
   "outputs": [],
   "source": []
  }
 ],
 "metadata": {
  "kernelspec": {
   "display_name": "Python 3 (ipykernel)",
   "language": "python",
   "name": "python3"
  },
  "language_info": {
   "codemirror_mode": {
    "name": "ipython",
    "version": 3
   },
   "file_extension": ".py",
   "mimetype": "text/x-python",
   "name": "python",
   "nbconvert_exporter": "python",
   "pygments_lexer": "ipython3",
   "version": "3.12.4"
  }
 },
 "nbformat": 4,
 "nbformat_minor": 5
}
